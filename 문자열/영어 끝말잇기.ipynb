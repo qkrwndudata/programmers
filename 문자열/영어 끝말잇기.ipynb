{
 "cells": [
  {
   "cell_type": "markdown",
   "metadata": {},
   "source": [
    "## 영어 끝말잇기\n",
    "\n",
    "1부터 n까지 번호가 붙어있는 n명의 사람이 영어 끝말잇기를 하고 있습니다. 영어 끝말잇기는 다음과 같은 규칙으로 진행됩니다.\n",
    "\n",
    "- 1번부터 번호 순서대로 한 사람씩 차례대로 단어를 말합니다.\n",
    "- 마지막 사람이 단어를 말한 다음에는 다시 1번부터 시작합니다.\n",
    "- 앞사람이 말한 단어의 마지막 문자로 시작하는 단어를 말해야 합니다.\n",
    "- 이전에 등장했던 단어는 사용할 수 없습니다.\n",
    "- 한 글자인 단어는 인정되지 않습니다.\n",
    "\n",
    "사람의 수 n과 사람들이 순서대로 말한 단어 words 가 매개변수로 주어질 때, 가장 먼저 탈락하는 사람의 번호와 그 사람이 자신의 몇 번째 차례에 탈락하는지를 구해서 return 하도록 solution 함수를 완성해주세요."
   ]
  },
  {
   "cell_type": "code",
   "execution_count": null,
   "metadata": {},
   "outputs": [],
   "source": [
    "def solution(n, words):\n",
    "    left = 0  \n",
    "    right = 0\n",
    "    for i in range(1, len(words)):   # 1부터 단어의 길이까지 (이전 단어와 비교하기 위해 1부터 시작)\n",
    "        if words[i][0] != words[i-1][-1] or words[i] in words[:i]:   # 해당 단어의 첫 문자가 이전 단어의 끝 문자와 다르거나 이미 나온 단어라면\n",
    "            left = i % n + 1   # 해당 단어의 인덱스 \n",
    "            right = i // n + 1   # 몇 번째 반복됐는지 계산\n",
    "            return [left, right]\n",
    "\n",
    "    return [left, right]   # 해당 안되면 [0,0] 반환"
   ]
  }
 ],
 "metadata": {
  "kernelspec": {
   "display_name": "Python 3",
   "language": "python",
   "name": "python3"
  },
  "language_info": {
   "codemirror_mode": {
    "name": "ipython",
    "version": 3
   },
   "file_extension": ".py",
   "mimetype": "text/x-python",
   "name": "python",
   "nbconvert_exporter": "python",
   "pygments_lexer": "ipython3",
   "version": "3.8.5"
  }
 },
 "nbformat": 4,
 "nbformat_minor": 4
}
