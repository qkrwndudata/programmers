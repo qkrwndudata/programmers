{
 "cells": [
  {
   "cell_type": "markdown",
   "metadata": {},
   "source": [
    "## 최댓값과 최솟값\n",
    "\n",
    "- 문자열 s에는 공백으로 구분된 숫자들이 저장되어 있습니다. str에 나타나는 숫자 중 최소값과 최대값을 찾아 이를 \"(최소값) (최대값)\"형태의 문자열을 반환하는 함수, solution을 완성하세요. 예를들어 s가 \"1 2 3 4\"라면 \"1 4\"를 리턴하고, \"-1 -2 -3 -4\"라면 \"-4 -1\"을 리턴하면 됩니다."
   ]
  },
  {
   "cell_type": "code",
   "execution_count": null,
   "metadata": {},
   "outputs": [],
   "source": [
    "# 내 풀이\n",
    "def solution(s):\n",
    "    answer = ''   # 빈 문자열 생성\n",
    "    \n",
    "    ans = list(map(int, s.split(' ')))   # 주어진 문자를 공백 기준으로 분리하고 정수로 변환해 리스트(ans)의 원소로 입력\n",
    "    minmax = [min(ans), ' ', max(ans)]   # ans의 최소값, 공백, ans의 최대값으로 구성된 리스트(minmax) 생성\n",
    "    \n",
    "    for i in minmax:   # minmax 내 각 원소에 대해\n",
    "        answer += str(i)   # 문자로 바꾸고 빈 문자열 answer에 차례로 추가\n",
    "    \n",
    "    return answer"
   ]
  },
  {
   "cell_type": "code",
   "execution_count": null,
   "metadata": {},
   "outputs": [],
   "source": [
    "# 다른 풀이\n",
    "def solution(s):\n",
    "    s = list(map(int,s.split()))   \n",
    "    return str(min(s)) + \" \" + str(max(s))   # for문을 쓰지 않고 문자열의 덧셈(+)을 활용"
   ]
  },
  {
   "cell_type": "markdown",
   "metadata": {},
   "source": [
    "#### 기억할 문법\n",
    "\n",
    "- map(function, iterable): 반복 가능 객체에 대해 함수 적용\n",
    "- 문자열.split('구분자'): 구분자 기준으로 문자 분리해 각각을 하나의 원소로 리스트 생성"
   ]
  },
  {
   "cell_type": "code",
   "execution_count": null,
   "metadata": {},
   "outputs": [],
   "source": []
  }
 ],
 "metadata": {
  "kernelspec": {
   "display_name": "Python 3",
   "language": "python",
   "name": "python3"
  },
  "language_info": {
   "codemirror_mode": {
    "name": "ipython",
    "version": 3
   },
   "file_extension": ".py",
   "mimetype": "text/x-python",
   "name": "python",
   "nbconvert_exporter": "python",
   "pygments_lexer": "ipython3",
   "version": "3.8.5"
  }
 },
 "nbformat": 4,
 "nbformat_minor": 4
}
