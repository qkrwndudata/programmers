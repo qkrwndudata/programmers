{
 "cells": [
  {
   "cell_type": "markdown",
   "metadata": {},
   "source": [
    "## 튜플"
   ]
  },
  {
   "cell_type": "markdown",
   "metadata": {},
   "source": [
    "원소의 개수가 n개이고, 중복되는 원소가 없는 튜플 (a1, a2, a3, ..., an)이 주어질 때(단, a1, a2, ..., an은 자연수), 이는 다음과 같이 집합 기호 '{', '}'를 이용해 표현할 수 있습니다. \n",
    "\n",
    "{{2}, {2, 1}, {2, 1, 3}, {2, 1, 3, 4}}\n",
    "{{2, 1, 3, 4}, {2}, {2, 1, 3}, {2, 1}}\n",
    "{{1, 2, 3}, {2, 1}, {1, 2, 4, 3}, {2}}\n",
    "는 모두 같은 튜플 (2, 1, 3, 4)를 나타냅니다.\n",
    "\n",
    "특정 튜플을 표현하는 집합이 담긴 문자열 s가 매개변수로 주어질 때, s가 표현하는 튜플을 배열에 담아 return 하도록 solution 함수를 완성해주세요."
   ]
  },
  {
   "cell_type": "code",
   "execution_count": null,
   "metadata": {},
   "outputs": [],
   "source": [
    "# 내 풀이\n",
    "def solution(s):\n",
    "    answer = []\n",
    "    s = s.strip('{}')   # 양쪽 중괄호 제거\n",
    "    s = s.split('},{')   # 문자열 분할\n",
    "    s.sort(key = lambda x: len(x))   # 길이 오름차순 정렬\n",
    "    for i in s:   # 각 숫자, 반점으로 구성된 문자열에 대해\n",
    "        element = i.split(',')   # 반점 기준 문자열 분할\n",
    "        for j in element:   # 분할된 문자열에 대해\n",
    "            if int(j) not in answer:   # 정수형으로 변환\n",
    "                answer.append(int(j))   # 추가\n",
    "                \n",
    "    return answer"
   ]
  }
 ],
 "metadata": {
  "kernelspec": {
   "display_name": "Python 3",
   "language": "python",
   "name": "python3"
  },
  "language_info": {
   "codemirror_mode": {
    "name": "ipython",
    "version": 3
   },
   "file_extension": ".py",
   "mimetype": "text/x-python",
   "name": "python",
   "nbconvert_exporter": "python",
   "pygments_lexer": "ipython3",
   "version": "3.8.5"
  }
 },
 "nbformat": 4,
 "nbformat_minor": 4
}
