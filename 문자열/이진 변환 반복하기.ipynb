{
 "cells": [
  {
   "cell_type": "markdown",
   "metadata": {},
   "source": [
    "## 이진 변환 반복하기\n",
    "\n",
    "0과 1로 이루어진 어떤 문자열 x에 대한 이진 변환을 다음과 같이 정의합니다.\n",
    "\n",
    "- x의 모든 0을 제거합니다.\n",
    "- x의 길이를 c라고 하면, x를 \"c를 2진법으로 표현한 문자열\"로 바꿉니다.\n",
    "\n",
    "0과 1로 이루어진 문자열 s가 매개변수로 주어집니다. s가 \"1\"이 될 때까지 계속해서 s에 이진 변환을 가했을 때, 이진 변환의 횟수와 변환 과정에서 제거된 모든 0의 개수를 각각 배열에 담아 return 하도록 solution 함수를 완성해주세요."
   ]
  },
  {
   "cell_type": "code",
   "execution_count": null,
   "metadata": {},
   "outputs": [],
   "source": [
    "# 내 풀이\n",
    "def solution(s):\n",
    "    cnt = 0   # 연산 횟수\n",
    "    zeros = []   # 0의 개수를 담을 리스트(zeros)\n",
    "    \n",
    "    while s != \"1\":   # 1이 남을 때까지\n",
    "        if \"0\" in s:   # 0이 있으면\n",
    "            zeros.append(s.count(\"0\"))   # 0의 개수를 zero에 추가\n",
    "            s = s.replace(\"0\", \"\")   # 0을 제거\n",
    "\n",
    "        target = len(s)   # 0을 제거하고 난 후의 문자열의 길이를 저장(target)\n",
    "        s = bin(target)[2:]   # bin()[2:]: target 이진 변환해 문자열 업데이트\n",
    "        \n",
    "        cnt += 1   # 연산 횟수 증가\n",
    "    \n",
    "    return [cnt, sum(zeros)]"
   ]
  },
  {
   "cell_type": "code",
   "execution_count": null,
   "metadata": {},
   "outputs": [],
   "source": [
    "# 다른 풀이\n",
    "def solution(s):\n",
    "    a, b = 0, 0\n",
    "    while s != '1':\n",
    "        a += 1   # 연산 횟수 증가\n",
    "        num = s.count('1')  # 1의 개수\n",
    "        b += len(s) - num   # 0의 개수\n",
    "        s = bin(num)[2:]   # 이진 변환\n",
    "    return [a, b]"
   ]
  },
  {
   "cell_type": "markdown",
   "metadata": {},
   "source": [
    "#### 기억할 문법\n",
    "\n",
    "- 문자열.count(단어): 문자열 내 단어의 개수 카운트\n",
    "- 문자열.replace(\"a\", \"b\"): 문자열의 a를 b로 변환\n",
    "- bin(int): 주어진 정수를 이진변환(앞에 문자열 2개가 붙으므로 [2:]와 같이 슬라이싱으로 이진수만 추출할 수 있음)"
   ]
  }
 ],
 "metadata": {
  "kernelspec": {
   "display_name": "Python 3",
   "language": "python",
   "name": "python3"
  },
  "language_info": {
   "codemirror_mode": {
    "name": "ipython",
    "version": 3
   },
   "file_extension": ".py",
   "mimetype": "text/x-python",
   "name": "python",
   "nbconvert_exporter": "python",
   "pygments_lexer": "ipython3",
   "version": "3.8.5"
  }
 },
 "nbformat": 4,
 "nbformat_minor": 4
}
