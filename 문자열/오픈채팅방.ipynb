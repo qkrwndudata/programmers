{
 "cells": [
  {
   "cell_type": "markdown",
   "metadata": {},
   "source": [
    "## 오픈채팅방\n",
    "\n",
    "카카오톡 오픈채팅방에서는 친구가 아닌 사람들과 대화를 할 수 있는데, 본래 닉네임이 아닌 가상의 닉네임을 사용하여 채팅방에 들어갈 수 있다.\n",
    "\n",
    "신입사원인 김크루는 카카오톡 오픈 채팅방을 개설한 사람을 위해, 다양한 사람들이 들어오고, 나가는 것을 지켜볼 수 있는 관리자창을 만들기로 했다. 채팅방에 누군가 들어오면 다음 메시지가 출력된다.\n",
    "\n",
    "\"[닉네임]님이 들어왔습니다.\"\n",
    "\n",
    "채팅방에서 누군가 나가면 다음 메시지가 출력된다.\n",
    "\n",
    "\"[닉네임]님이 나갔습니다.\"\n",
    "\n",
    "채팅방에서 닉네임을 변경하는 방법은 다음과 같이 두 가지이다.\n",
    "\n",
    "채팅방을 나간 후, 새로운 닉네임으로 다시 들어간다.\n",
    "채팅방에서 닉네임을 변경한다.\n",
    "닉네임을 변경할 때는 기존에 채팅방에 출력되어 있던 메시지의 닉네임도 전부 변경된다.\n",
    "\n",
    "예를 들어, 채팅방에 \"Muzi\"와 \"Prodo\"라는 닉네임을 사용하는 사람이 순서대로 들어오면 채팅방에는 다음과 같이 메시지가 출력된다.\n",
    "\n",
    "\"Muzi님이 들어왔습니다.\"\n",
    "\"Prodo님이 들어왔습니다.\"\n",
    "\n",
    "채팅방에 있던 사람이 나가면 채팅방에는 다음과 같이 메시지가 남는다.\n",
    "\n",
    "\"Muzi님이 들어왔습니다.\"\n",
    "\"Prodo님이 들어왔습니다.\"\n",
    "\"Muzi님이 나갔습니다.\"\n",
    "\n",
    "Muzi가 나간후 다시 들어올 때, Prodo 라는 닉네임으로 들어올 경우 기존에 채팅방에 남아있던 Muzi도 Prodo로 다음과 같이 변경된다.\n",
    "\n",
    "\"Prodo님이 들어왔습니다.\"\n",
    "\"Prodo님이 들어왔습니다.\"\n",
    "\"Prodo님이 나갔습니다.\"\n",
    "\"Prodo님이 들어왔습니다.\"\n",
    "\n",
    "채팅방은 중복 닉네임을 허용하기 때문에, 현재 채팅방에는 Prodo라는 닉네임을 사용하는 사람이 두 명이 있다. 이제, 채팅방에 두 번째로 들어왔던 Prodo가 Ryan으로 닉네임을 변경하면 채팅방 메시지는 다음과 같이 변경된다.\n",
    "\n",
    "\"Prodo님이 들어왔습니다.\"\n",
    "\"Ryan님이 들어왔습니다.\"\n",
    "\"Prodo님이 나갔습니다.\"\n",
    "\"Prodo님이 들어왔습니다.\"\n",
    "\n",
    "채팅방에 들어오고 나가거나, 닉네임을 변경한 기록이 담긴 문자열 배열 record가 매개변수로 주어질 때, 모든 기록이 처리된 후, 최종적으로 방을 개설한 사람이 보게 되는 메시지를 문자열 배열 형태로 return 하도록 solution 함수를 완성하라."
   ]
  },
  {
   "cell_type": "code",
   "execution_count": null,
   "metadata": {},
   "outputs": [],
   "source": [
    "def solution(record):\n",
    "    answer = [] \n",
    "    name = dict()\n",
    "    \n",
    "    for message in record:   # 각 메시지에 대해\n",
    "        if len(message.split(' ')) == 3:   # 공백 기준 분할한 문자열이 3개면(leave일 경우 2개)\n",
    "            action, ID, nickname = message.split(' ')   # 각각 할당\n",
    "            name[ID] = nickname   # ID key에 닉네임 valule 입력\n",
    "    \n",
    "    for message in record: \n",
    "        if len(message.split(' ')) == 3:\n",
    "            action, ID, nickname = message.split(' ')\n",
    "        if len(message.split(' ')) == 2:\n",
    "            action, ID = message.split(' ')\n",
    "        if action == 'Enter':\n",
    "            answer.append('%s님이 들어왔습니다.' %name[ID])   # 문자열 포매팅\n",
    "        elif action == 'Leave':\n",
    "                answer.append('%s님이 나갔습니다.' %name[ID])\n",
    "            \n",
    "    return answer"
   ]
  },
  {
   "cell_type": "code",
   "execution_count": null,
   "metadata": {},
   "outputs": [],
   "source": [
    "def solution(record):\n",
    "    userDict = {}\n",
    "    answer = []\n",
    "\n",
    "    for line in record:\n",
    "        line = line.split(\" \")   # split된 리스트를 그대로 사용\n",
    "\n",
    "        if line[0] == \"Enter\":\n",
    "            userDict[line[1]] = line[2]\n",
    "        elif line[0] == \"Change\":\n",
    "            userDict[line[1]] = line[2]\n",
    "\n",
    "    for line in record:\n",
    "        line = line.split(\" \")\n",
    "        targetString = userDict[line[1]]\n",
    "        if line[0] == \"Enter\":\n",
    "            targetString += \"님이 들어왔습니다.\"\n",
    "        elif line[0] == \"Leave\":\n",
    "            targetString += \"님이 나갔습니다.\"\n",
    "        else:\n",
    "            continue\n",
    "        answer.append(targetString)\n",
    "\n",
    "    return answer"
   ]
  },
  {
   "cell_type": "markdown",
   "metadata": {},
   "source": [
    "#### 함수 정리\n",
    "\n",
    "- '%s ~' %s1: ''안의 s자리에 s1 대입"
   ]
  }
 ],
 "metadata": {
  "kernelspec": {
   "display_name": "Python 3",
   "language": "python",
   "name": "python3"
  },
  "language_info": {
   "codemirror_mode": {
    "name": "ipython",
    "version": 3
   },
   "file_extension": ".py",
   "mimetype": "text/x-python",
   "name": "python",
   "nbconvert_exporter": "python",
   "pygments_lexer": "ipython3",
   "version": "3.8.5"
  }
 },
 "nbformat": 4,
 "nbformat_minor": 4
}
