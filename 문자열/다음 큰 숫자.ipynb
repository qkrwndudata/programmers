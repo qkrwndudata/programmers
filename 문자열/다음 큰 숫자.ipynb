{
 "cells": [
  {
   "cell_type": "markdown",
   "metadata": {},
   "source": [
    "## 다음 큰 숫자\n",
    "\n",
    "자연수 n이 주어졌을 때, n의 다음 큰 숫자는 다음과 같이 정의 합니다.\n",
    "\n",
    "- 조건 1. n의 다음 큰 숫자는 n보다 큰 자연수 입니다.\n",
    "- 조건 2. n의 다음 큰 숫자와 n은 2진수로 변환했을 때 1의 갯수가 같습니다.\n",
    "- 조건 3. n의 다음 큰 숫자는 조건 1, 2를 만족하는 수 중 가장 작은 수 입니다.\n",
    "예를 들어서 78(1001110)의 다음 큰 숫자는 83(1010011)입니다.\n",
    "\n",
    "자연수 n이 매개변수로 주어질 때, n의 다음 큰 숫자를 return 하는 solution 함수를 완성해주세요."
   ]
  },
  {
   "cell_type": "code",
   "execution_count": null,
   "metadata": {},
   "outputs": [],
   "source": [
    "def binary(n):   # 이진변환 함수 생성\n",
    "    div = n\n",
    "    bin_ = []\n",
    "    while n >= 2:\n",
    "        if n % 2 == 0:   # 2로 나눠지면\n",
    "            bin_.append(0)   # 0 추가\n",
    "        else:   # 아니면 \n",
    "            bin_.append(1)   # 1 추가\n",
    "        n = n // 2 \n",
    "    bin_.append(1)   # 마지막에 1 추가\n",
    "    return bin_\n",
    "\n",
    "def solution(n):\n",
    "    i = n+1\n",
    "    while sum(binary(n)) != sum(binary(i)):   # 이진수의 합이 다르면(=1의 갯수가 다르면)\n",
    "        i += 1   # n 증가\n",
    "    return i   # 다음 큰 숫자 리턴"
   ]
  }
 ],
 "metadata": {
  "kernelspec": {
   "display_name": "Python 3",
   "language": "python",
   "name": "python3"
  },
  "language_info": {
   "codemirror_mode": {
    "name": "ipython",
    "version": 3
   },
   "file_extension": ".py",
   "mimetype": "text/x-python",
   "name": "python",
   "nbconvert_exporter": "python",
   "pygments_lexer": "ipython3",
   "version": "3.8.5"
  }
 },
 "nbformat": 4,
 "nbformat_minor": 4
}
