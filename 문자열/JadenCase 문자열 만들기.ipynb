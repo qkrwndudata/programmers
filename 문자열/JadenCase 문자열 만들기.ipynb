{
 "cells": [
  {
   "cell_type": "markdown",
   "metadata": {},
   "source": [
    "## JadenCase 문자열 만들기\n",
    "\n",
    "- JadenCase란 모든 단어의 첫 문자가 대문자이고, 그 외의 알파벳은 소문자인 문자열입니다. 단, 첫 문자가 알파벳이 아닐 때에는 이어지는 알파벳은 소문자로 쓰면 됩니다. (첫 번째 입출력 예 참고) 문자열 s가 주어졌을 때, s를 JadenCase로 바꾼 문자열을 리턴하는 함수, solution을 완성해주세요."
   ]
  },
  {
   "cell_type": "code",
   "execution_count": null,
   "metadata": {},
   "outputs": [],
   "source": [
    "# 내 풀이\n",
    "def solution(s):\n",
    "\n",
    "    Jaden = s.split(' ')   # 주어진 문자를 공백 기준으로 분리해 리스트(Jaden) 생성\n",
    "    result = []   # 빈 리스트 생성\n",
    "    for i in Jaden:   # Jaden 각 원소에 대해\n",
    "        i = i.capitalize()   # 첫 문자 대문자화\n",
    "        result.append(i)   # result에 추가\n",
    "    answer = ' '.join(result)   # result 내 각 원소를 결합\n",
    "    return answer"
   ]
  },
  {
   "cell_type": "markdown",
   "metadata": {},
   "source": [
    "#### 기억할 문법\n",
    "\n",
    "- 문자열.capitalize(): 해당 문자열의 첫 문자는 대문자로, 나머지는 소문자로 변환하는 함수"
   ]
  },
  {
   "cell_type": "code",
   "execution_count": null,
   "metadata": {},
   "outputs": [],
   "source": []
  }
 ],
 "metadata": {
  "kernelspec": {
   "display_name": "Python 3",
   "language": "python",
   "name": "python3"
  },
  "language_info": {
   "codemirror_mode": {
    "name": "ipython",
    "version": 3
   },
   "file_extension": ".py",
   "mimetype": "text/x-python",
   "name": "python",
   "nbconvert_exporter": "python",
   "pygments_lexer": "ipython3",
   "version": "3.8.5"
  }
 },
 "nbformat": 4,
 "nbformat_minor": 4
}
