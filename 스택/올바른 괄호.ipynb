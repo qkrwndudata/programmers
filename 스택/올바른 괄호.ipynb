{
 "cells": [
  {
   "cell_type": "markdown",
   "metadata": {},
   "source": [
    "## 올바른 괄호\n",
    "\n",
    "- 괄호가 바르게 짝지어졌다는 것은 '(' 문자로 열렸으면 반드시 짝지어서 ')' 문자로 닫혀야 한다는 뜻입니다. '(' 또는 ')' 로만 이루어진 문자열 s가 주어졌을 때, 문자열 s가 올바른 괄호이면 true를 return 하고, 올바르지 않은 괄호이면 false를 return 하는 solution 함수를 완성해 주세요."
   ]
  },
  {
   "cell_type": "markdown",
   "metadata": {},
   "source": [
    "- 스택에 추가할 조건: '('이 나올 때\n",
    "\n",
    "- 스택에서 뺄 조건: ')'이 나왔을 때 스택의 마지막 값(최근에 추가된 값)이 '('일 경우\n",
    "\n",
    "- 그 외 for 문을 다 돌았는데 stack이 비어 있지 않거나 스택에서 뺄 조건을 만족하지 못할 경우 False 반환\n",
    "\n",
    "- for 문 다 돌고 스택이 비어 있으면 True 반환"
   ]
  },
  {
   "cell_type": "code",
   "execution_count": null,
   "metadata": {},
   "outputs": [],
   "source": [
    "# 내 풀이\n",
    "def solution(s):\n",
    "    \n",
    "    stack = []\n",
    "    sym = {')': '('}\n",
    "    \n",
    "    for i in s:   # i 각각에 대해\n",
    "        if i not in sym:   # i가 sym에 없으면\n",
    "            stack.append(i)   # stack에 추가\n",
    "        elif not stack or stack[-1] != sym[i]:   \n",
    "            return False   # False 반환\n",
    "        elif stack[-1] == sym[i]:   # i가 sym에 있고 잘 대응되면\n",
    "            stack.pop()   # stack에서 꺼냄\n",
    "        \n",
    "    \n",
    "    return len(stack) == 0   # stack이 잘 비워지면 True"
   ]
  }
 ],
 "metadata": {
  "kernelspec": {
   "display_name": "Python 3",
   "language": "python",
   "name": "python3"
  },
  "language_info": {
   "codemirror_mode": {
    "name": "ipython",
    "version": 3
   },
   "file_extension": ".py",
   "mimetype": "text/x-python",
   "name": "python",
   "nbconvert_exporter": "python",
   "pygments_lexer": "ipython3",
   "version": "3.8.5"
  }
 },
 "nbformat": 4,
 "nbformat_minor": 4
}
