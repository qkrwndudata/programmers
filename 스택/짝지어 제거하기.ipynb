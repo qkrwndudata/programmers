{
 "cells": [
  {
   "cell_type": "markdown",
   "metadata": {},
   "source": [
    "## 짝지어 제거하기\n",
    "\n",
    "짝지어 제거하기는, 알파벳 소문자로 이루어진 문자열을 가지고 시작합니다. 먼저 문자열에서 같은 알파벳이 2개 붙어 있는 짝을 찾습니다. 그다음, 그 둘을 제거한 뒤, 앞뒤로 문자열을 이어 붙입니다. 이 과정을 반복해서 문자열을 모두 제거한다면 짝지어 제거하기가 종료됩니다. 문자열 S가 주어졌을 때, 짝지어 제거하기를 성공적으로 수행할 수 있는지 반환하는 함수를 완성해 주세요. 성공적으로 수행할 수 있으면 1을, 아닐 경우 0을 리턴해주면 됩니다.\n",
    "\n",
    "예를 들어, 문자열 S = baabaa 라면\n",
    "\n",
    "b aa baa → bb aa → aa →\n",
    "\n",
    "의 순서로 문자열을 모두 제거할 수 있으므로 1을 반환합니다."
   ]
  },
  {
   "cell_type": "markdown",
   "metadata": {},
   "source": [
    "> stack에 추가할 조건\n",
    "\n",
    "1. 이전 문자가 중복되서 사라진 경우: ex) bba -> a: a 추가\n",
    "2. 중복이 아닌 경우: ex) ba: a 추가\n",
    "\n",
    "> stack에 제거할 조건\n",
    "\n",
    "중복될 경우"
   ]
  },
  {
   "cell_type": "code",
   "execution_count": null,
   "metadata": {},
   "outputs": [],
   "source": [
    "def solution(s):\n",
    "    stack = []\n",
    "    \n",
    "    for i in s:   # 문자열 s 내 문자 i에 대해\n",
    "        if not stack:   # stack에 없으면\n",
    "            stack.append(i)   # stack에 추가\n",
    "        elif i == stack[-1]:   # stack에 있고 최근 들어온 값과 같으면\n",
    "            stack.pop()   # stack에서 빼줌\n",
    "        elif i != stack[-1]:   # stack에 있는데 최근 들어온 값과 다르면\n",
    "            stack.append(i)   # stack에 추가\n",
    "            \n",
    "    if not stack:   # 최종 stack이 비어 있으면\n",
    "        return 1   # 1\n",
    "    else:   # 아니면\n",
    "        return 0   # 0"
   ]
  }
 ],
 "metadata": {
  "kernelspec": {
   "display_name": "Python 3",
   "language": "python",
   "name": "python3"
  },
  "language_info": {
   "codemirror_mode": {
    "name": "ipython",
    "version": 3
   },
   "file_extension": ".py",
   "mimetype": "text/x-python",
   "name": "python",
   "nbconvert_exporter": "python",
   "pygments_lexer": "ipython3",
   "version": "3.8.5"
  }
 },
 "nbformat": 4,
 "nbformat_minor": 4
}
