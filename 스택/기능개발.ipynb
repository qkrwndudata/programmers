{
 "cells": [
  {
   "cell_type": "markdown",
   "metadata": {},
   "source": [
    "## 기능개발\n",
    "\n",
    "프로그래머스 팀에서는 기능 개선 작업을 수행 중입니다. 각 기능은 진도가 100%일 때 서비스에 반영할 수 있습니다.\n",
    "\n",
    "또, 각 기능의 개발속도는 모두 다르기 때문에 뒤에 있는 기능이 앞에 있는 기능보다 먼저 개발될 수 있고, 이때 뒤에 있는 기능은 앞에 있는 기능이 배포될 때 함께 배포됩니다.\n",
    "\n",
    "먼저 배포되어야 하는 순서대로 작업의 진도가 적힌 정수 배열 progresses와 각 작업의 개발 속도가 적힌 정수 배열 speeds가 주어질 때 각 배포마다 몇 개의 기능이 배포되는지를 return 하도록 solution 함수를 완성하세요."
   ]
  },
  {
   "cell_type": "code",
   "execution_count": null,
   "metadata": {},
   "outputs": [],
   "source": [
    "# 내 풀이\n",
    "import math\n",
    "from collections import deque\n",
    "\n",
    "def solution(progresses, speeds):\n",
    "    # 7, 3, 9 -> (7, 3), (9) : 2-0, 3-2\n",
    "    # 5, 10, 1, 1, 20, 1 -> (5), (10, 1, 1,), (20, 1): 1-0, 4-1, 6-4\n",
    "    \n",
    "    # 기능 완성까지 남은 시간 리스트 생성\n",
    "    time = []\n",
    "    for i in range(len(progresses)):\n",
    "        a = math.ceil((100-progresses[i]) / speeds[i])\n",
    "        time.append(a)  \n",
    "\n",
    "    answer = []\n",
    "    left = 0   # 포인터 1: 0부터\n",
    "    for i in range(1, len(time)):   # 포인터 2: 1부터\n",
    "        if time[i] > time[left]:   # 포인터 2가 포인터 1보다 크면\n",
    "            answer.append(i - left)   # 포인터 2와 포인터 1 위치 차이만큼을 answer에 추가\n",
    "            left = i   # 포인터 1은 포인터 2 위치로 이동\n",
    "    answer.append(len(time)-left)   # 맨 마지막에 (리스트 길이 - 포인터 1 최종 위치)만큼을 추가\n",
    "    return answer"
   ]
  },
  {
   "cell_type": "code",
   "execution_count": null,
   "metadata": {},
   "outputs": [],
   "source": [
    "# 다른 풀이\n",
    "def solution(progresses, speeds):\n",
    "\n",
    "    answer = []\n",
    "    time = 0\n",
    "    count = 0\n",
    "\n",
    "    while len(progresses)> 0:   # progresses가 존재하는 동안 반복\n",
    "        if (progresses[0] + time*speeds[0]) >= 100:   # 100을 넘기면\n",
    "            progresses.pop(0)   # progresses 첫 원소 제거\n",
    "            speeds.pop(0)   # speeds 첫 원소 제거 \n",
    "            count += 1   # count + 1\n",
    "        else:   # 100 못 넘기면\n",
    "            if count > 0:   # count가 0보다 크면\n",
    "                answer.append(count)   # answer에 count 추가\n",
    "                count = 0   # count 초기화\n",
    "            time += 1   # time 증가\n",
    "    answer.append(count)\n",
    "    return answer"
   ]
  }
 ],
 "metadata": {
  "kernelspec": {
   "display_name": "Python 3",
   "language": "python",
   "name": "python3"
  },
  "language_info": {
   "codemirror_mode": {
    "name": "ipython",
    "version": 3
   },
   "file_extension": ".py",
   "mimetype": "text/x-python",
   "name": "python",
   "nbconvert_exporter": "python",
   "pygments_lexer": "ipython3",
   "version": "3.8.5"
  }
 },
 "nbformat": 4,
 "nbformat_minor": 4
}
