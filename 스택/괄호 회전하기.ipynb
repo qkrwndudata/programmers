{
 "cells": [
  {
   "cell_type": "markdown",
   "metadata": {},
   "source": [
    "## 괄호 회전하기\n",
    "\n",
    "대괄호, 중괄호, 그리고 소괄호로 이루어진 문자열 s가 매개변수로 주어집니다. 이 s를 왼쪽으로 x (0 ≤ x < (s의 길이)) 칸만큼 회전시켰을 때 s가 올바른 괄호 문자열이 되게 하는 x의 개수를 return 하도록 solution 함수를 완성해주세요."
   ]
  },
  {
   "cell_type": "code",
   "execution_count": null,
   "metadata": {},
   "outputs": [],
   "source": [
    "# 내 풀이\n",
    "\n",
    "def right(s):\n",
    "    stack = []\n",
    "    sym = {')': '(', '}': '{', ']': '['}\n",
    "    \n",
    "    for i in s:   # i 각각에 대해\n",
    "        if i not in sym:   # i가 sym에 없으면\n",
    "            stack.append(i)   # stack에 추가\n",
    "        elif not stack or stack[-1] != sym[i]:   \n",
    "            return False   # False 반환\n",
    "        elif stack[-1] == sym[i]:   # i가 sym에 있고 잘 대응되면\n",
    "            stack.pop()   # stack에서 꺼냄\n",
    "        \n",
    "    \n",
    "    return len(stack) == 0   # stack이 잘 비워지면 True\n",
    "    \n",
    "    \n",
    "\n",
    "def solution(s):\n",
    "    i = 0\n",
    "    answer = 0\n",
    "    while i < len(s):   # 전부 회전할 때까지\n",
    "        if right(s):   # 올바르면\n",
    "            answer += 1   # answer + 1\n",
    "        s = s[1:] + s[0]   # 문자 회전\n",
    "        i += 1\n",
    "    \n",
    "    return answer"
   ]
  }
 ],
 "metadata": {
  "kernelspec": {
   "display_name": "Python 3",
   "language": "python",
   "name": "python3"
  },
  "language_info": {
   "codemirror_mode": {
    "name": "ipython",
    "version": 3
   },
   "file_extension": ".py",
   "mimetype": "text/x-python",
   "name": "python",
   "nbconvert_exporter": "python",
   "pygments_lexer": "ipython3",
   "version": "3.8.5"
  }
 },
 "nbformat": 4,
 "nbformat_minor": 4
}
