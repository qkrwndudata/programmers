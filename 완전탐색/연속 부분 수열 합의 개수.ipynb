{
 "cells": [
  {
   "cell_type": "markdown",
   "metadata": {},
   "source": [
    "## 연속 부분 수열 합의 개수\n",
    "\n",
    "원형 수열의 모든 원소 elements가 순서대로 주어질 때, 원형 수열의 연속 부분 수열 합으로 만들 수 있는 수의 개수를 return 하도록 solution 함수를 완성해주세요."
   ]
  },
  {
   "cell_type": "code",
   "execution_count": null,
   "metadata": {},
   "outputs": [],
   "source": [
    "# 내 풀이\n",
    "import numpy as np\n",
    "    \n",
    "def solution(elements):\n",
    "    answer = []\n",
    "    for i in range(1, len(elements)):   # 길이 1부터 증가\n",
    "        new = elements + elements[:i-1]   # 길이 반영해 수열 업데이트\n",
    "        for j in range(len(new)-i+1):\n",
    "            answer.append(sum(new[j:j+i]))   # 길이만큼의 합 저장\n",
    "    answer.append(sum(elements))   # 각 길이의 원소 합 추가\n",
    "            \n",
    "    return len(set(answer))   # 중복되지 않은 개수 카운트"
   ]
  },
  {
   "cell_type": "code",
   "execution_count": null,
   "metadata": {},
   "outputs": [],
   "source": [
    "# 다른 풀이: 나머지 활용\n",
    "def solution(elements):\n",
    "    ll = len(elements)\n",
    "    res = set()\n",
    "\n",
    "    for i in range(ll):\n",
    "        ssum = elements[i]\n",
    "        res.add(ssum)\n",
    "        for j in range(i+1, i+ll):\n",
    "            ssum += elements[j%ll]\n",
    "            res.add(ssum)\n",
    "    return len(res)"
   ]
  }
 ],
 "metadata": {
  "kernelspec": {
   "display_name": "Python 3",
   "language": "python",
   "name": "python3"
  },
  "language_info": {
   "codemirror_mode": {
    "name": "ipython",
    "version": 3
   },
   "file_extension": ".py",
   "mimetype": "text/x-python",
   "name": "python",
   "nbconvert_exporter": "python",
   "pygments_lexer": "ipython3",
   "version": "3.8.5"
  }
 },
 "nbformat": 4,
 "nbformat_minor": 4
}
