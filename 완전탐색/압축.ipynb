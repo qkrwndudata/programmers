{
 "cells": [
  {
   "cell_type": "markdown",
   "metadata": {},
   "source": [
    "## 압축"
   ]
  },
  {
   "cell_type": "markdown",
   "metadata": {},
   "source": [
    "신입사원 어피치는 카카오톡으로 전송되는 메시지를 압축하여 전송 효율을 높이는 업무를 맡게 되었다. 메시지를 압축하더라도 전달되는 정보가 바뀌어서는 안 되므로, 압축 전의 정보를 완벽하게 복원 가능한 무손실 압축 알고리즘을 구현하기로 했다.\n",
    "\n",
    "어피치는 여러 압축 알고리즘 중에서 성능이 좋고 구현이 간단한 LZW(Lempel–Ziv–Welch) 압축을 구현하기로 했다. LZW 압축은 1983년 발표된 알고리즘으로, 이미지 파일 포맷인 GIF 등 다양한 응용에서 사용되었다.\n",
    "\n",
    "LZW 압축은 다음 과정을 거친다.\n",
    "\n",
    "1. 길이가 1인 모든 단어를 포함하도록 사전을 초기화한다.\n",
    "2. 사전에서 현재 입력과 일치하는 가장 긴 문자열 w를 찾는다.\n",
    "3. w에 해당하는 사전의 색인 번호를 출력하고, 입력에서 w를 제거한다.\n",
    "4. 입력에서 처리되지 않은 다음 글자가 남아있다면(c), w+c에 해당하는 단어를 사전에 등록한다.\n",
    "5. 단계 2로 돌아간다.\n",
    "\n",
    "압축 알고리즘이 영문 대문자만 처리한다고 할 때, 사전은 다음과 같이 초기화된다. 사전의 색인 번호는 정수값으로 주어지며, 1부터 시작한다고 하자."
   ]
  },
  {
   "cell_type": "code",
   "execution_count": null,
   "metadata": {},
   "outputs": [],
   "source": [
    "import string\n",
    "\n",
    "def solution(msg):\n",
    "    alpha = [i for i in string.ascii_uppercase]\n",
    "    words = {v:(int(i)+1) for i, v in enumerate(alpha)}\n",
    "    answer = []\n",
    "    \n",
    "    # 포인터 사용하는 문제임\n",
    "    left = 0\n",
    "    right = 0\n",
    "    while True:   # while 반복문 사용\n",
    "        right += 1   # right 포인터를 한칸 씩 이동해\n",
    "        if msg[left:right+1] not in words:   # 딕셔너리에 없으면\n",
    "            words[msg[left:right+1]] = len(words) + 1   # 딕셔너리에 새 단어 추가\n",
    "            answer.append(words[msg[left:right]])   # 딕셔너리에 존재한 left, right 포인터에 해당하는 단어의 인덱스는 리스트에 추가\n",
    "            left = right   # left 포인터를 right로 갱신해주어야\n",
    "\n",
    "        if right == len(msg):   # 끝에 도달하면\n",
    "            answer.append(words[msg[left:right]])   # 마지막 단어 추가해주고   \n",
    "            break   # while 문 종료 \n",
    "        \n",
    "    return answer"
   ]
  },
  {
   "cell_type": "markdown",
   "metadata": {},
   "source": [
    "#### 문법\n",
    "\n",
    "- string.ascii_uppercase: 알파벳 대문자 A부터 Z까지 호출"
   ]
  },
  {
   "cell_type": "code",
   "execution_count": null,
   "metadata": {},
   "outputs": [],
   "source": []
  }
 ],
 "metadata": {
  "kernelspec": {
   "display_name": "Python 3",
   "language": "python",
   "name": "python3"
  },
  "language_info": {
   "codemirror_mode": {
    "name": "ipython",
    "version": 3
   },
   "file_extension": ".py",
   "mimetype": "text/x-python",
   "name": "python",
   "nbconvert_exporter": "python",
   "pygments_lexer": "ipython3",
   "version": "3.8.5"
  }
 },
 "nbformat": 4,
 "nbformat_minor": 4
}
