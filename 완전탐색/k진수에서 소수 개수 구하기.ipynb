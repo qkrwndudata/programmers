{
 "cells": [
  {
   "cell_type": "markdown",
   "metadata": {},
   "source": [
    "## k진수에서 소수 개수 구하기\n",
    "\n",
    "양의 정수 n이 주어집니다. 이 숫자를 k진수로 바꿨을 때, 변환된 수 안에 아래 조건에 맞는 소수(Prime number)가 몇 개인지 알아보려 합니다.\n",
    "\n",
    "- 0P0처럼 소수 양쪽에 0이 있는 경우\n",
    "- P0처럼 소수 오른쪽에만 0이 있고 왼쪽에는 아무것도 없는 경우\n",
    "- 0P처럼 소수 왼쪽에만 0이 있고 오른쪽에는 아무것도 없는 경우\n",
    "- P처럼 소수 양쪽에 아무것도 없는 경우\n",
    "\n",
    "단, P는 각 자릿수에 0을 포함하지 않는 소수입니다.\n",
    "예를 들어, 101은 P가 될 수 없습니다.\n",
    "예를 들어, 437674을 3진수로 바꾸면 211020101011입니다. 여기서 찾을 수 있는 조건에 맞는 소수는 왼쪽부터 순서대로 211, 2, 11이 있으며, 총 3개입니다. (211, 2, 11을 k진법으로 보았을 때가 아닌, 10진법으로 보았을 때 소수여야 한다는 점에 주의합니다.) 211은 P0 형태에서 찾을 수 있으며, 2는 0P0에서, 11은 0P에서 찾을 수 있습니다.\n",
    "\n",
    "정수 n과 k가 매개변수로 주어집니다. n을 k진수로 바꿨을 때, 변환된 수 안에서 찾을 수 있는 위 조건에 맞는 소수의 개수를 return 하도록 solution 함수를 완성해 주세요."
   ]
  },
  {
   "cell_type": "code",
   "execution_count": null,
   "metadata": {},
   "outputs": [],
   "source": [
    "# 내 풀이\n",
    "\n",
    "import numpy as np\n",
    "\n",
    "def is_prime(n):   # 소수 판별 함수\n",
    "    answer = True\n",
    "    if n == 1:\n",
    "        return False\n",
    "    for i in range(2, int(np.sqrt(n))+1):   # n//2 말고 sqrt()써야 효율성 통과\n",
    "        if n % i == 0:\n",
    "            return False\n",
    "    return answer\n",
    "\n",
    "def make_k(n, k):   # k진수 만들기 함수\n",
    "    answer = []\n",
    "    while n > 0:\n",
    "        res = n % k\n",
    "        answer.append(res)\n",
    "        n = n // k\n",
    "    answer = list(reversed(answer))\n",
    "    return answer    \n",
    "    \n",
    "\n",
    "def solution(n, k):\n",
    "    answer = 0\n",
    "    if k == 10:   # k는 10이면\n",
    "        a = str(n).split('0')   # 주어진 숫자를 문자로 취급해 0 기준으로 분할\n",
    "        b = [int(x) for x in a if x != '']   # 공백을 제외한 문자를 숫자로 변환해 리스트 생성\n",
    "        for i in b:   # 리스트 b 내 각 원소가\n",
    "            if is_prime(i):   # 소수면\n",
    "                answer += 1   # + 1\n",
    "    else:   # k가 10이 아니면\n",
    "        new = make_k(n, k)   # k진수 변환하고 똑같이 진행\n",
    "        new_n = int(''.join([str(x) for x in new]))\n",
    "        a = str(new_n).split('0')\n",
    "        b = [int(x) for x in a if x != '']\n",
    "        for i in b:\n",
    "            if is_prime(i):\n",
    "                answer += 1\n",
    "    return answer"
   ]
  }
 ],
 "metadata": {
  "kernelspec": {
   "display_name": "Python 3",
   "language": "python",
   "name": "python3"
  },
  "language_info": {
   "codemirror_mode": {
    "name": "ipython",
    "version": 3
   },
   "file_extension": ".py",
   "mimetype": "text/x-python",
   "name": "python",
   "nbconvert_exporter": "python",
   "pygments_lexer": "ipython3",
   "version": "3.8.5"
  }
 },
 "nbformat": 4,
 "nbformat_minor": 4
}
