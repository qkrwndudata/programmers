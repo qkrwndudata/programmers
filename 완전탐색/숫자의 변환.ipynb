{
 "cells": [
  {
   "cell_type": "markdown",
   "metadata": {},
   "source": [
    "## 숫자의 변환\n",
    "\n",
    "- 자연수 n이 매개변수로 주어질 때, 연속된 자연수들로 n을 표현하는 방법의 수를 return하는 solution를 완성해주세요."
   ]
  },
  {
   "cell_type": "code",
   "execution_count": null,
   "metadata": {},
   "outputs": [],
   "source": [
    "# 내 풀이\n",
    "def solution(n):\n",
    "    answer = 1   # 방법의 수 초기값\n",
    "    for i in range(1, n//2+1):   # 1부터 주어진 정수의 절반까지만\n",
    "        res = i   # n에 도달할 값\n",
    "        init = i   # n에 더할 값\n",
    "        while res < n:   # n에 도달하기 전까지\n",
    "            init += 1   # 더할 값을 1씩 증가\n",
    "            res += init   # n에 도달할 값 업데이트\n",
    "       # print(res)   \n",
    "        if res == n:   # n에 도달하면\n",
    "            answer += 1   # 방법의 수 업데이트\n",
    "            \n",
    "    return answer"
   ]
  }
 ],
 "metadata": {
  "kernelspec": {
   "display_name": "Python 3",
   "language": "python",
   "name": "python3"
  },
  "language_info": {
   "codemirror_mode": {
    "name": "ipython",
    "version": 3
   },
   "file_extension": ".py",
   "mimetype": "text/x-python",
   "name": "python",
   "nbconvert_exporter": "python",
   "pygments_lexer": "ipython3",
   "version": "3.8.5"
  }
 },
 "nbformat": 4,
 "nbformat_minor": 4
}
