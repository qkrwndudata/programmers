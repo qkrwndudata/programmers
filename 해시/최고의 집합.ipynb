{
 "cells": [
  {
   "cell_type": "markdown",
   "metadata": {},
   "source": [
    "## 최고의 집합\n",
    "\n",
    "자연수 n 개로 이루어진 중복 집합(multi set, 편의상 이후에는 \"집합\"으로 통칭) 중에 다음 두 조건을 만족하는 집합을 최고의 집합이라고 합니다.\n",
    "\n",
    "1. 각 원소의 합이 S가 되는 수의 집합\n",
    "2. 위 조건을 만족하면서 각 원소의 곱 이 최대가 되는 집합\n",
    "\n",
    "예를 들어서 자연수 2개로 이루어진 집합 중 합이 9가 되는 집합은 다음과 같이 4개가 있습니다.\n",
    "- { 1, 8 }, { 2, 7 }, { 3, 6 }, { 4, 5 }\n",
    "\n",
    "그중 각 원소의 곱이 최대인 { 4, 5 }가 최고의 집합입니다.\n",
    "\n",
    "집합의 원소의 개수 n과 모든 원소들의 합 s가 매개변수로 주어질 때, 최고의 집합을 return 하는 solution 함수를 완성해주세요."
   ]
  },
  {
   "cell_type": "code",
   "execution_count": 1,
   "metadata": {},
   "outputs": [],
   "source": [
    "# 내 풀이\n",
    "def solution(n, s):\n",
    "    answer = []  # 빈 리스트 생성\n",
    "    if s < n:   # 합이 자연수 개수보다 작으면\n",
    "        return [-1]   # 생성 불가하므로 -1 반환\n",
    "    else:   # 정상적일 경우\n",
    "        answer = [s // n] * n   # 원소의 곱이 최대가 되려면 s를 n으로 나눈 몫이 포함되어야 함\n",
    "        plus = s % n   # s를 n으로 나눈 나머지의 개수만큼\n",
    "        if plus == 0:\n",
    "            return answer\n",
    "        else:\n",
    "            answer = [s // n] * (n - plus) + [s // n + 1] * plus   # 몫 + 1을 포함\n",
    "    return answer"
   ]
  }
 ],
 "metadata": {
  "kernelspec": {
   "display_name": "Python 3",
   "language": "python",
   "name": "python3"
  },
  "language_info": {
   "codemirror_mode": {
    "name": "ipython",
    "version": 3
   },
   "file_extension": ".py",
   "mimetype": "text/x-python",
   "name": "python",
   "nbconvert_exporter": "python",
   "pygments_lexer": "ipython3",
   "version": "3.8.5"
  }
 },
 "nbformat": 4,
 "nbformat_minor": 4
}
