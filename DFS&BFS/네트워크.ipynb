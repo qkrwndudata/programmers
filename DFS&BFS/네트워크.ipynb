{
 "cells": [
  {
   "cell_type": "markdown",
   "metadata": {},
   "source": [
    "## 네트워크\n",
    "\n",
    "네트워크란 컴퓨터 상호 간에 정보를 교환할 수 있도록 연결된 형태를 의미합니다. 예를 들어, 컴퓨터 A와 컴퓨터 B가 직접적으로 연결되어있고, 컴퓨터 B와 컴퓨터 C가 직접적으로 연결되어 있을 때 컴퓨터 A와 컴퓨터 C도 간접적으로 연결되어 정보를 교환할 수 있습니다. 따라서 컴퓨터 A, B, C는 모두 같은 네트워크 상에 있다고 할 수 있습니다.\n",
    "\n",
    "컴퓨터의 개수 n, 연결에 대한 정보가 담긴 2차원 배열 computers가 매개변수로 주어질 때, 네트워크의 개수를 return 하도록 solution 함수를 작성하시오."
   ]
  },
  {
   "cell_type": "code",
   "execution_count": null,
   "metadata": {},
   "outputs": [],
   "source": [
    "def solution(n, computers):\n",
    "    answer = 0\n",
    "    visited = [0 for i in range(n)]\n",
    "\n",
    "    def dfs(computers, visited, start):\n",
    "        stack = [start]   # 시작점\n",
    "        while stack:   # 스택이 빌 때까지\n",
    "            j = stack.pop()   # 끝 값 빼서\n",
    "            if visited[j] == 0:   # 방문하지 않았으면\n",
    "                visited[j] = 1   # 방문 처리\n",
    "            # for i in range(len(computers)-1, -1, -1):\n",
    "            for i in range(0, len(computers)):   # 컴퓨터 개수만큼 돌며\n",
    "                if computers[j][i] ==1 and visited[i] == 0:   # 방문하지 않은 컴퓨터\n",
    "                    stack.append(i)   # 추가\n",
    "    i=0\n",
    "    while 0 in visited:   # 전부 방문할 때까지 반복\n",
    "        if visited[i] ==0:   # 방문 안한 경우에\n",
    "            dfs(computers, visited, i)   # 해당 컴퓨터부터 네트워크 확인\n",
    "            answer +=1 # 한번 dfs 돌때마다 네트워크 개수 추가\n",
    "        i+=1\n",
    "    return answer"
   ]
  }
 ],
 "metadata": {
  "kernelspec": {
   "display_name": "Python 3",
   "language": "python",
   "name": "python3"
  },
  "language_info": {
   "codemirror_mode": {
    "name": "ipython",
    "version": 3
   },
   "file_extension": ".py",
   "mimetype": "text/x-python",
   "name": "python",
   "nbconvert_exporter": "python",
   "pygments_lexer": "ipython3",
   "version": "3.8.5"
  }
 },
 "nbformat": 4,
 "nbformat_minor": 4
}
