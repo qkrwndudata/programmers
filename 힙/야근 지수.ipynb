{
 "cells": [
  {
   "cell_type": "markdown",
   "metadata": {},
   "source": [
    "## 야근 지수\n",
    "\n",
    "회사원 Demi는 가끔은 야근을 하는데요, 야근을 하면 야근 피로도가 쌓입니다. 야근 피로도는 야근을 시작한 시점에서 남은 일의 작업량을 제곱하여 더한 값입니다. Demi는 N시간 동안 야근 피로도를 최소화하도록 일할 겁니다.Demi가 1시간 동안 작업량 1만큼을 처리할 수 있다고 할 때, 퇴근까지 남은 N 시간과 각 일에 대한 작업량 works에 대해 야근 피로도를 최소화한 값을 리턴하는 함수 solution을 완성해주세요."
   ]
  },
  {
   "cell_type": "code",
   "execution_count": null,
   "metadata": {},
   "outputs": [],
   "source": [
    "def solution(n, works):\n",
    "    if sum(works) <= n:\n",
    "        return 0\n",
    "    else:\n",
    "        while n > 0:\n",
    "            id = works.index(max(works))\n",
    "            works[id] -= 1\n",
    "            n -= 1\n",
    "        answer = sum([x**2 for x in works])  # 내 풀이: 시간 초과 -> heapque로 풀기\n",
    "        return answer"
   ]
  },
  {
   "cell_type": "code",
   "execution_count": null,
   "metadata": {},
   "outputs": [],
   "source": [
    "import heapq   # 최소값을 배열의 맨 앞에 유지시켜주는 모듈\n",
    "def solution(n, works):\n",
    "    if sum(works) <= n:\n",
    "        return 0\n",
    "    answer = 0\n",
    "    works = [-w for w in works]   # heap은 최소값 우선이므로\n",
    "    heapq.heapify(works)\n",
    "    while n > 0:\n",
    "        max_val = heapq.heappop(works)\n",
    "        heapq.heappush(works, max_val+1)\n",
    "        n -= 1\n",
    "    \n",
    "    answer = sum([x**2 for x in works]) \n",
    "    return answer"
   ]
  }
 ],
 "metadata": {
  "kernelspec": {
   "display_name": "Python 3",
   "language": "python",
   "name": "python3"
  },
  "language_info": {
   "codemirror_mode": {
    "name": "ipython",
    "version": 3
   },
   "file_extension": ".py",
   "mimetype": "text/x-python",
   "name": "python",
   "nbconvert_exporter": "python",
   "pygments_lexer": "ipython3",
   "version": "3.8.5"
  }
 },
 "nbformat": 4,
 "nbformat_minor": 4
}
