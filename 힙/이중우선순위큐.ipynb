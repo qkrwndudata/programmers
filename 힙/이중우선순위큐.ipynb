{
 "cells": [
  {
   "cell_type": "markdown",
   "metadata": {},
   "source": [
    "## 이중우선순위큐\n",
    "\n",
    "이중 우선순위 큐는 다음 연산을 할 수 있는 자료구조를 말합니다:\n",
    "\n",
    "1. I 숫자: 큐에 주어진 숫자를 삽입합니다.\n",
    "2. D 1:\t큐에서 최댓값을 삭제합니다.\n",
    "3. D -1: 큐에서 최솟값을 삭제합니다.\n",
    "\n",
    "이중 우선순위 큐가 할 연산 operations가 매개변수로 주어질 때, 모든 연산을 처리한 후 큐가 비어있으면 [0,0] 비어있지 않으면 [최댓값, 최솟값]을 return 하도록 solution 함수를 구현해주세요."
   ]
  },
  {
   "cell_type": "code",
   "execution_count": 1,
   "metadata": {},
   "outputs": [],
   "source": [
    "# 내 풀이\n",
    "\n",
    "def solution(operations):\n",
    "    q = []   # 빈 큐 생성\n",
    "    for i in operations:   # 주어진 문자\n",
    "        input1 = i.split(' ')[0]   # 분할1 -> I / D\n",
    "        input2 = i.split(' ')[1]   # 분할2 -> 숫자\n",
    "        if input1 == 'I':   # I이면\n",
    "            q.append(int(input2))   # 큐에 추가\n",
    "        else:   # D이면\n",
    "            if q and input2 == '1':   # 큐가 비어있지 않고 D1이면\n",
    "                q.remove(max(q))   # 최댓값 삭제\n",
    "            elif q and input2 == '-1':   # 큐가 비어있지 않고 D-1이면\n",
    "                q.remove(min(q))   # 최솟값 삭제\n",
    "            elif not q:   # 큐가 비어 있으면\n",
    "                pass   # 통과\n",
    "    if not q:   # 큐가 비어 있지 않으면\n",
    "        return [0, 0]   # [0, 0] 반환\n",
    "    return [max(q), min(q)]   # [최댓값, 최솟값] 반환"
   ]
  },
  {
   "cell_type": "code",
   "execution_count": null,
   "metadata": {},
   "outputs": [],
   "source": []
  }
 ],
 "metadata": {
  "kernelspec": {
   "display_name": "Python 3",
   "language": "python",
   "name": "python3"
  },
  "language_info": {
   "codemirror_mode": {
    "name": "ipython",
    "version": 3
   },
   "file_extension": ".py",
   "mimetype": "text/x-python",
   "name": "python",
   "nbconvert_exporter": "python",
   "pygments_lexer": "ipython3",
   "version": "3.8.5"
  }
 },
 "nbformat": 4,
 "nbformat_minor": 4
}
