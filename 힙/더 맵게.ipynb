{
 "cells": [
  {
   "cell_type": "markdown",
   "metadata": {},
   "source": [
    "## 더 맵게\n",
    "\n",
    "매운 것을 좋아하는 Leo는 모든 음식의 스코빌 지수를 K 이상으로 만들고 싶습니다. 모든 음식의 스코빌 지수를 K 이상으로 만들기 위해 Leo는 스코빌 지수가 가장 낮은 두 개의 음식을 아래와 같이 특별한 방법으로 섞어 새로운 음식을 만듭니다.\n",
    "\n",
    "> 섞은 음식의 스코빌 지수 = 가장 맵지 않은 음식의 스코빌 지수 + (두 번째로 맵지 않은 음식의 스코빌 지수 * 2)\n",
    "\n",
    "Leo는 모든 음식의 스코빌 지수가 K 이상이 될 때까지 반복하여 섞습니다.\n",
    "Leo가 가진 음식의 스코빌 지수를 담은 배열 scoville과 원하는 스코빌 지수 K가 주어질 때, 모든 음식의 스코빌 지수를 K 이상으로 만들기 위해 섞어야 하는 최소 횟수를 return 하도록 solution 함수를 작성해주세요."
   ]
  },
  {
   "cell_type": "code",
   "execution_count": null,
   "metadata": {},
   "outputs": [],
   "source": [
    "import heapq\n",
    "\n",
    "def solution(scoville, K):\n",
    "    if K == 0:\n",
    "        return 0\n",
    "    \n",
    "    heapq.heapify(scoville)   # 주어진 리스트를 heap으로 변경\n",
    "    \n",
    "    i = 0\n",
    "    while len(scoville) > 1:   # scoville의 원소가 한 개 남으면 종료\n",
    "        min1 = heapq.heappop(scoville)   # 가장 작은 원소\n",
    "        if min1 >= K: return 0   # 이 부분 처리 안해줘서 틀렸음: 첫 원소 뼀을 때도 K와 비교 필요(예외 처리)\n",
    "        min2 = heapq.heappop(scoville)   # 두 번째로 가장 작은 원소\n",
    "        new = min1 + min2*2   # 섞은 음식의 스코빌 지수\n",
    "        heapq.heappush(scoville, new)   # 추가\n",
    "        i += 1   # 반복횟수 증가\n",
    "        if scoville[0] >= K:   # 가장 작은 원소가 K보다 크면\n",
    "            return i   # 반복 횟수 출력\n",
    "    if scoville[0] < K:   # 작으면\n",
    "        return -1   # -1 출력"
   ]
  },
  {
   "cell_type": "markdown",
   "metadata": {},
   "source": [
    "#### 문법\n",
    "- heapq.heapify(list): list를 heap 자료구조로 변경\n",
    "- heapq.heappop(heap): heap의 가장 작은 원소 출력 후 제거\n",
    "- heapq.heappush(heap, 원소): heap에 새로운 원소 추가"
   ]
  },
  {
   "cell_type": "code",
   "execution_count": null,
   "metadata": {},
   "outputs": [],
   "source": []
  }
 ],
 "metadata": {
  "kernelspec": {
   "display_name": "Python 3",
   "language": "python",
   "name": "python3"
  },
  "language_info": {
   "codemirror_mode": {
    "name": "ipython",
    "version": 3
   },
   "file_extension": ".py",
   "mimetype": "text/x-python",
   "name": "python",
   "nbconvert_exporter": "python",
   "pygments_lexer": "ipython3",
   "version": "3.8.5"
  }
 },
 "nbformat": 4,
 "nbformat_minor": 4
}
