{
 "cells": [
  {
   "cell_type": "markdown",
   "metadata": {},
   "source": [
    "## 구명보트\n",
    "\n",
    "무인도에 갇힌 사람들을 구명보트를 이용하여 구출하려고 합니다. 구명보트는 작아서 한 번에 최대 2명씩 밖에 탈 수 없고, 무게 제한도 있습니다.\n",
    "\n",
    "예를 들어, 사람들의 몸무게가 [70kg, 50kg, 80kg, 50kg]이고 구명보트의 무게 제한이 100kg이라면 2번째 사람과 4번째 사람은 같이 탈 수 있지만 1번째 사람과 3번째 사람의 무게의 합은 150kg이므로 구명보트의 무게 제한을 초과하여 같이 탈 수 없습니다.\n",
    "\n",
    "구명보트를 최대한 적게 사용하여 모든 사람을 구출하려고 합니다.\n",
    "\n",
    "사람들의 몸무게를 담은 배열 people과 구명보트의 무게 제한 limit가 매개변수로 주어질 때, 모든 사람을 구출하기 위해 필요한 구명보트 개수의 최솟값을 return 하도록 solution 함수를 작성해주세요."
   ]
  },
  {
   "cell_type": "code",
   "execution_count": null,
   "metadata": {},
   "outputs": [],
   "source": [
    "def solution(people, limit) :\n",
    "    answer = 0\n",
    "    people.sort()   # 오름차순 정렬\n",
    "\n",
    "    a = 0   # 가장 가벼운 사람의 인덱스\n",
    "    b = len(people) - 1   # 가장 무거운 사람의 인덱스\n",
    "    while a < b :\n",
    "        if people[b] + people[a] <= limit :   # 두 사람의 몸무게 합이 limit보다 작으면\n",
    "            a += 1   # a 인덱스 이동\n",
    "            answer += 1   # rn\n",
    "        b -= 1   # if문 안걸리면 b 인덱스 이동\n",
    "    return len(people) - answer"
   ]
  }
 ],
 "metadata": {
  "kernelspec": {
   "display_name": "Python 3",
   "language": "python",
   "name": "python3"
  },
  "language_info": {
   "codemirror_mode": {
    "name": "ipython",
    "version": 3
   },
   "file_extension": ".py",
   "mimetype": "text/x-python",
   "name": "python",
   "nbconvert_exporter": "python",
   "pygments_lexer": "ipython3",
   "version": "3.8.5"
  }
 },
 "nbformat": 4,
 "nbformat_minor": 4
}
