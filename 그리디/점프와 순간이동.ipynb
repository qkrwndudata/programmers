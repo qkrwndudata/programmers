{
 "cells": [
  {
   "cell_type": "markdown",
   "metadata": {},
   "source": [
    "## 점프와 순간이동\n",
    "\n",
    "OO 연구소는 한 번에 K 칸을 앞으로 점프하거나, (현재까지 온 거리) x 2 에 해당하는 위치로 순간이동을 할 수 있는 특수한 기능을 가진 아이언 슈트를 개발하여 판매하고 있습니다. 이 아이언 슈트는 건전지로 작동되는데, 순간이동을 하면 건전지 사용량이 줄지 않지만, 앞으로 K 칸을 점프하면 K 만큼의 건전지 사용량이 듭니다. 그러므로 아이언 슈트를 착용하고 이동할 때는 순간 이동을 하는 것이 더 효율적입니다. 아이언 슈트 구매자는 아이언 슈트를 착용하고 거리가 N 만큼 떨어져 있는 장소로 가려고 합니다. 단, 건전지 사용량을 줄이기 위해 점프로 이동하는 것은 최소로 하려고 합니다. 아이언 슈트 구매자가 이동하려는 거리 N이 주어졌을 때, 사용해야 하는 건전지 사용량의 최솟값을 return하는 solution 함수를 만들어 주세요."
   ]
  },
  {
   "cell_type": "markdown",
   "metadata": {},
   "source": [
    "1. 최대한 순간이동을 하는 것이 좋다: 건전지가 안들기 때문에\n",
    "2. 점프는 최대한 1칸만 가는 것이 좋다: 같은 이유로\n",
    "2. 순간이동은 현재 위치의 2배로 이동하는 것이기 때문에 이동하고 난 후의 위치는 항상 짝수이다.\n",
    "3. 따라서 뒤에서부터 계산해간다: 예를 들어 5만큼 떨어진 곳을 간다고 한다면 5부터 시작한다. 5는 홀수이므로 순간이동으로 옮길 수 없기 때문에 점프로 이동해서 도착한다. 점프는 1칸만 가는 것이 좋기 때문에 그 전 거리는 4일 때까 좋다. 4는 짝수이므로 순간이동이 가능하고 2로 간다. 2 역시 짝수이므로 1로 이동하고, 1은 홀수이기 때문에 1칸 점프하면 출발점이다. 이 때 총 2만큼의 배터리가 소요되고 이는 도착지점으로부터 2를 나누어갈 때 홀수의 개수를 의미한다."
   ]
  },
  {
   "cell_type": "code",
   "execution_count": null,
   "metadata": {},
   "outputs": [],
   "source": [
    "# 내 풀이\n",
    "def solution(n):\n",
    "    answer = 0\n",
    "    while n > 0:\n",
    "        if n % 2 == 0:\n",
    "            n = n / 2\n",
    "        else:\n",
    "            n -= 1\n",
    "            answer += 1\n",
    "    return answer"
   ]
  },
  {
   "cell_type": "code",
   "execution_count": null,
   "metadata": {},
   "outputs": [],
   "source": [
    "# 다른 풀이\n",
    "def solution(n):\n",
    "    answer = 1\n",
    "    while n > 1:\n",
    "        answer += n % 2   # answer에 n을 2로 나눈 나머지를 더한다. 홀수일 경우만 더해짐\n",
    "        n = n // 2   # n을 2로 나눈 몫으로 업데이트한다.\n",
    "    return answer"
   ]
  }
 ],
 "metadata": {
  "kernelspec": {
   "display_name": "Python 3",
   "language": "python",
   "name": "python3"
  },
  "language_info": {
   "codemirror_mode": {
    "name": "ipython",
    "version": 3
   },
   "file_extension": ".py",
   "mimetype": "text/x-python",
   "name": "python",
   "nbconvert_exporter": "python",
   "pygments_lexer": "ipython3",
   "version": "3.8.5"
  }
 },
 "nbformat": 4,
 "nbformat_minor": 4
}
