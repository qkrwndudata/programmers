{
 "cells": [
  {
   "cell_type": "markdown",
   "metadata": {},
   "source": [
    "## N진수 게임\n",
    "\n",
    "튜브가 활동하는 코딩 동아리에서는 전통적으로 해오는 게임이 있다. 이 게임은 여러 사람이 둥글게 앉아서 숫자를 하나씩 차례대로 말하는 게임인데, 규칙은 다음과 같다.\n",
    "\n",
    "숫자를 0부터 시작해서 차례대로 말한다. 첫 번째 사람은 0, 두 번째 사람은 1, … 열 번째 사람은 9를 말한다.\n",
    "10 이상의 숫자부터는 한 자리씩 끊어서 말한다. 즉 열한 번째 사람은 10의 첫 자리인 1, 열두 번째 사람은 둘째 자리인 0을 말한다.\n",
    "이렇게 게임을 진행할 경우,\n",
    "0, 1, 2, 3, 4, 5, 6, 7, 8, 9, 1, 0, 1, 1, 1, 2, 1, 3, 1, 4, …\n",
    "순으로 숫자를 말하면 된다.\n",
    "\n",
    "한편 코딩 동아리 일원들은 컴퓨터를 다루는 사람답게 이진수로 이 게임을 진행하기도 하는데, 이 경우에는\n",
    "0, 1, 1, 0, 1, 1, 1, 0, 0, 1, 0, 1, 1, 1, 0, 1, 1, 1, …\n",
    "순으로 숫자를 말하면 된다.\n",
    "\n",
    "이진수로 진행하는 게임에 익숙해져 질려가던 사람들은 좀 더 난이도를 높이기 위해 이진법에서 십육진법까지 모든 진법으로 게임을 진행해보기로 했다. 숫자 게임이 익숙하지 않은 튜브는 게임에 져서 벌칙을 받는 굴욕을 피하기 위해, 자신이 말해야 하는 숫자를 스마트폰에 미리 출력해주는 프로그램을 만들려고 한다. 튜브의 프로그램을 구현하라."
   ]
  },
  {
   "cell_type": "code",
   "execution_count": null,
   "metadata": {},
   "outputs": [],
   "source": [
    "def make_n(m, n):   # n진수 변환 함수 생성\n",
    "    dictionary = {10: 'A', 11: 'B', 12: 'C', 13: 'D', 14: 'E', 15: 'F'}   # 딕셔너리로 10 이상 값 문자열 변환 처리\n",
    "    answer = []\n",
    "    # n진수 변환 과정\n",
    "    while m >= n: \n",
    "        answer.append(m%n)\n",
    "        m = m // n\n",
    "    answer.append(m)\n",
    "    for i in range(len(answer)):   # 10 이상 값 변환\n",
    "        if answer[i] in dictionary:\n",
    "            answer[i] = dictionary[answer[i]]\n",
    "    answer.reverse()   # 최종 출력치는 거꾸로 생성\n",
    "    return answer\n",
    "\n",
    "def solution(n, t, m, p):\n",
    "    digit = t*m   # 모든 숫자를 확인하지 않고 m*t개만 확인\n",
    "    answer = []\n",
    "    for i in range(digit):\n",
    "        answer += make_n(i, n)   # n진수 변환\n",
    "    answer = answer[p-1::m][0:t]   # p-1번째부터 m 단위로 t개 슬라이스\n",
    "    answer = list(map(str, answer))   # 리스트 내 원소 문자열 변환\n",
    "    return ''.join(answer)   # 문자열 결합"
   ]
  },
  {
   "cell_type": "markdown",
   "metadata": {},
   "source": [
    "#### 문법\n",
    "- list.reverse(): 리스트 원소의 순서를 반대로 바꿈\n",
    "- list[i::j]: list의 i번째 원소부터 j 단위로 늘려가며 선택\n",
    "- list(map(str, list)): list의 원소를 문자열ㄹ로 변환\n",
    "- ''.join(list): list의 문자열 원소를 결합해 하나의 문자열로 생성"
   ]
  },
  {
   "cell_type": "code",
   "execution_count": null,
   "metadata": {},
   "outputs": [],
   "source": []
  }
 ],
 "metadata": {
  "kernelspec": {
   "display_name": "Python 3",
   "language": "python",
   "name": "python3"
  },
  "language_info": {
   "codemirror_mode": {
    "name": "ipython",
    "version": 3
   },
   "file_extension": ".py",
   "mimetype": "text/x-python",
   "name": "python",
   "nbconvert_exporter": "python",
   "pygments_lexer": "ipython3",
   "version": "3.8.5"
  }
 },
 "nbformat": 4,
 "nbformat_minor": 4
}
