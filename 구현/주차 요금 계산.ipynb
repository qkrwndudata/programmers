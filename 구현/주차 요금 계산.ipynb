{
 "cells": [
  {
   "cell_type": "markdown",
   "metadata": {},
   "source": [
    "## 주차 요금 계산\n",
    "\n",
    "주차 요금을 나타내는 정수 배열 fees, 자동차의 입/출차 내역을 나타내는 문자열 배열 records가 매개변수로 주어집니다. 차량 번호가 작은 자동차부터 청구할 주차 요금을 차례대로 정수 배열에 담아서 return 하도록 solution 함수를 완성해주세요.\n",
    "\n",
    "- 어떤 차량이 입차된 후에 출차된 내역이 없다면, 23:59에 출차된 것으로 간주합니다\n",
    "- 00:00부터 23:59까지의 입/출차 내역을 바탕으로 차량별 누적 주차 시간을 계산하여 요금을 일괄로 정산합니다.\n",
    "- 누적 주차 시간이 기본 시간이하라면, 기본 요금을 청구합니다.\n",
    "- 누적 주차 시간이 기본 시간을 초과하면, 기본 요금에 더해서, 초과한 시간에 대해서 단위 시간 마다 단위 요금을 청구합니다.\n",
    "- 초과한 시간이 단위 시간으로 나누어 떨어지지 않으면, 올림합니다."
   ]
  },
  {
   "cell_type": "code",
   "execution_count": null,
   "metadata": {},
   "outputs": [],
   "source": [
    "import math\n",
    "\n",
    "def solution(fees, records):\n",
    "    park = dict()   # 차량 번호 별 주차 내용 저장할 딕셔너리 생성\n",
    "    fees_ = dict()   # 차량 번호 별 부과할 요금 담을 딕셔너리 생성\n",
    "    \n",
    "    for record in records:\n",
    "        time, number, state = record.split(' ')\n",
    "        # 시간을 문자열 분할 이후 분 단위로 바꿔버리기\n",
    "        hour, minute = time.split(':')\n",
    "        time = int(hour)*60 + int(minute)   # time은 현재 정수형\n",
    "        \n",
    "        if number not in park:   # dictionary에 차량 번호 없으면\n",
    "            park[number] = [time, 0, state]   # 들어온 시간(분), 주차한 시간(초기값: 0), In/ Out 상태 리스트를 value로 입력\n",
    "        else:   # 있으면\n",
    "            if state == 'OUT':   # 주차 후 나가는 거면\n",
    "                spend = time - park[number][0]   # 현재 시간(분)-이전 시간(분)으로 주차한 시간 계산\n",
    "                park[number] = [time, park[number][1] + spend, state]   # dictionary 업데이(spend 업데이트 핵심!)\n",
    "            if state == 'IN':   # 들어오는 거면\n",
    "                park[number] = [time, park[number][1], state]   # spend는 그대로(이전 값으로)\n",
    "    \n",
    "    # 23:59분 처리해주기\n",
    "    for car, info in park.items():   # park dictionary의 key, value에 대해\n",
    "        if info[2] ==\"IN\":   # 들어오는 상태로 끝났다면\n",
    "            time = 23*60 + 59 - info[0]   # 23시 59분 분처리해서 주차 시간 계산\n",
    "            info[1] = info[1] + time   # spend 더해줌\n",
    "            info[2] = \"OUT\"   # out 처리\n",
    "    \n",
    "    for car, info in park.items():   # 다시 park dictionary를 돌면서\n",
    "        if info[1] < fees[0]:   # 최종 시간이 기본 시간보다 작으면\n",
    "            fees_[car] = fees[1]   # 해당 차량번호의 주차 요금은 기본요금으로 저장\n",
    "        else:   # 크면\n",
    "            fees_[car] = fees[1] + math.ceil((info[1]-fees[0])/fees[2])*fees[3]   # 올림처리 꼭 해준 후 주차 요금 계산\n",
    "    fees_ = sorted(fees_.items(), key=lambda x: x[0])   # 차량 번호(Key) 별로 정렬\n",
    "    return [value for key, value in fees_]   # 그 때의 주차 요금만 출력해 리스트 생성"
   ]
  },
  {
   "cell_type": "markdown",
   "metadata": {},
   "source": [
    "#### 함수 정리\n",
    "- str.split(구분자): 문자열을 구분자 기준으로 분할\n",
    "- 기본 dict()에도 리스트가 value로 들어올 수 있음\n",
    "- for key, value in dictionary.items(): 딕셔너리의 key, value 짝지어서 반복문\n",
    "- sorted(dictionary.items(), key=lambda x: x[0]): 딕셔너리 key 기준 정렬(value 기준으로 하고 싶으면 x[1] 처리\n",
    "- [value for key, value in dictionary]: list comprehension 사용해 딕셔너리 value만 출력"
   ]
  }
 ],
 "metadata": {
  "kernelspec": {
   "display_name": "Python 3",
   "language": "python",
   "name": "python3"
  },
  "language_info": {
   "codemirror_mode": {
    "name": "ipython",
    "version": 3
   },
   "file_extension": ".py",
   "mimetype": "text/x-python",
   "name": "python",
   "nbconvert_exporter": "python",
   "pygments_lexer": "ipython3",
   "version": "3.8.5"
  }
 },
 "nbformat": 4,
 "nbformat_minor": 4
}
