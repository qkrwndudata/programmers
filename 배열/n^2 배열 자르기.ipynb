{
 "cells": [
  {
   "cell_type": "markdown",
   "metadata": {},
   "source": [
    "## n^2 배열 자르기\n",
    "\n",
    "정수 n, left, right가 주어집니다. 다음 과정을 거쳐서 1차원 배열을 만들고자 합니다.\n",
    "\n",
    "n행 n열 크기의 비어있는 2차원 배열을 만듭니다.\n",
    "\n",
    "1. i = 1, 2, 3, ..., n에 대해서, 다음 과정을 반복합니다.\n",
    "2. 1행 1열부터 i행 i열까지의 영역 내의 모든 빈 칸을 숫자 i로 채웁니다.\n",
    "3. 1행, 2행, ..., n행을 잘라내어 모두 이어붙인 새로운 1차원 배열을 만듭니다.\n",
    "4. 새로운 1차원 배열을 arr이라 할 때, arr[left], arr[left+1], ..., arr[right]만 남기고 나머지는 지웁니다.\n",
    "\n",
    "정수 n, left, right가 매개변수로 주어집니다. 주어진 과정대로 만들어진 1차원 배열을 return 하도록 solution 함수를 완성해주세요."
   ]
  },
  {
   "cell_type": "code",
   "execution_count": null,
   "metadata": {},
   "outputs": [],
   "source": [
    "# 내 풀이\n",
    "def solution(n, left, right):\n",
    "    arr = []\n",
    "    start = left // n\n",
    "    end = right // n\n",
    "    for i in range(start, end+1):\n",
    "        row = [i+1]*(i+1) + list(range(i+2, n+1))\n",
    "        arr += row\n",
    "    return arr[left-start*n: right-start*n+1]"
   ]
  },
  {
   "cell_type": "code",
   "execution_count": null,
   "metadata": {},
   "outputs": [],
   "source": [
    "# 다른 풀이: 인덱스의 몫과 나머지로 위치 확인하는 방법\n",
    "def solution(n, left, right):\n",
    "    answer = []\n",
    "    for i in range(left,right+1):\n",
    "        answer.append(max(i//n,i%n)+1)\n",
    "    return answer"
   ]
  }
 ],
 "metadata": {
  "kernelspec": {
   "display_name": "Python 3",
   "language": "python",
   "name": "python3"
  },
  "language_info": {
   "codemirror_mode": {
    "name": "ipython",
    "version": 3
   },
   "file_extension": ".py",
   "mimetype": "text/x-python",
   "name": "python",
   "nbconvert_exporter": "python",
   "pygments_lexer": "ipython3",
   "version": "3.8.5"
  }
 },
 "nbformat": 4,
 "nbformat_minor": 4
}
