{
 "cells": [
  {
   "cell_type": "markdown",
   "metadata": {},
   "source": [
    "## N개의 최소공배수\n",
    "\n",
    "두 수의 최소공배수(Least Common Multiple)란 입력된 두 수의 배수 중 공통이 되는 가장 작은 숫자를 의미합니다. 예를 들어 2와 7의 최소공배수는 14가 됩니다. 정의를 확장해서, n개의 수의 최소공배수는 n 개의 수들의 배수 중 공통이 되는 가장 작은 숫자가 됩니다. n개의 숫자를 담은 배열 arr이 입력되었을 때 이 수들의 최소공배수를 반환하는 함수, solution을 완성해 주세요."
   ]
  },
  {
   "cell_type": "markdown",
   "metadata": {},
   "source": [
    "가장 큰 수에 배수가 나머지 값들로 나누어 떨어지는지 확인"
   ]
  },
  {
   "cell_type": "code",
   "execution_count": null,
   "metadata": {},
   "outputs": [],
   "source": [
    "# 내 풀이\n",
    "def solution(arr):\n",
    "    arr.sort(reverse = True)\n",
    "    the = arr[0]   # 가장 큰 수\n",
    "    rem = arr[1:]   # 나머지 수\n",
    "    a = [0] * len(rem)    #나머지 수만큼 리스트 생성\n",
    "    i = 1\n",
    "    while sum(a) != len(rem):   # 모두 나누어 떨어지면 종료\n",
    "        lcm = the * i   # 가장 큰 수의 배숴\n",
    "        for j in range(len(rem)):\n",
    "            if lcm % rem[j] == 0:   # 나누어 떨어지면\n",
    "                a[j] = 1   # 리스트 a에 1\n",
    "            else:   # 안 나뉘면 \n",
    "                a[j] = 0   # 리스트 a에 0\n",
    "        i += 1\n",
    "    \n",
    "    return lcm"
   ]
  },
  {
   "cell_type": "code",
   "execution_count": null,
   "metadata": {},
   "outputs": [],
   "source": [
    "# 다른 풀이\n",
    "from fractions import gcd   # gcd 함수 사용\n",
    "\n",
    "\n",
    "def nlcm(num):      \n",
    "    answer = num[0]\n",
    "    for n in num:\n",
    "        answer = n * answer / gcd(n, answer) \n",
    "\n",
    "    return answer"
   ]
  }
 ],
 "metadata": {
  "kernelspec": {
   "display_name": "Python 3",
   "language": "python",
   "name": "python3"
  },
  "language_info": {
   "codemirror_mode": {
    "name": "ipython",
    "version": 3
   },
   "file_extension": ".py",
   "mimetype": "text/x-python",
   "name": "python",
   "nbconvert_exporter": "python",
   "pygments_lexer": "ipython3",
   "version": "3.8.5"
  }
 },
 "nbformat": 4,
 "nbformat_minor": 4
}
